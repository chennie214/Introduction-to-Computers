{
  "nbformat": 4,
  "nbformat_minor": 0,
  "metadata": {
    "colab": {
      "name": "0530.ipynb",
      "provenance": [],
      "collapsed_sections": [],
      "authorship_tag": "ABX9TyPiITJMnf5LyrGD09KjFuq+",
      "include_colab_link": true
    },
    "kernelspec": {
      "name": "python3",
      "display_name": "Python 3"
    },
    "language_info": {
      "name": "python"
    }
  },
  "cells": [
    {
      "cell_type": "markdown",
      "metadata": {
        "id": "view-in-github",
        "colab_type": "text"
      },
      "source": [
        "<a href=\"https://colab.research.google.com/github/chennie214/Introduction-to-Computers/blob/main/0530.ipynb\" target=\"_parent\"><img src=\"https://colab.research.google.com/assets/colab-badge.svg\" alt=\"Open In Colab\"/></a>"
      ]
    },
    {
      "cell_type": "code",
      "source": [
        "layer = ['Curry','Green','Durant','Looney','Thompson']\n",
        "Fraction = [30,5,22,6,28]\n",
        "\n",
        "Fraction1 = sorted(Fraction)\n",
        "Fraction1.reverse()\n",
        "search_val_1 = Fraction1[0]\n",
        "search_val_2 = Fraction1[1]\n",
        "search_val_3 = Fraction1[2]\n",
        "search_val_4 = Fraction1[3]\n",
        "search_val_5 = Fraction1[4]\n",
        "\n",
        "frac_1 = Fraction.index(search_val_1)\n",
        "frac_2 = Fraction.index(search_val_2)\n",
        "frac_3 = Fraction.index(search_val_3)\n",
        "frac_4 = Fraction.index(search_val_4)\n",
        "frac_5 = Fraction.index(search_val_5)\n",
        "\n",
        "\n",
        "print('金洲勇士現在有的球員陣容 = ', layer)\n",
        "print('勇士今天最高的三個得分',[Fraction [frac_1],Fraction [frac_2],Fraction [frac_3]], '球員分別為',[layer [frac_1],layer [frac_2],layer [frac_3]])\n",
        "print('勇士今天最低的兩個得分',[Fraction [frac_4],Fraction [frac_5]],'球員分別為',[ layer [frac_4], layer [frac_5]])\n",
        "print('勇士今天最高得分', [layer[frac_1]] ,'分數為',Fraction[frac_1],end = '分\\n')\n",
        "print('勇士今天最低得分', [layer[frac_5]] ,'分數為',Fraction[frac_5],end = '分\\n')"
      ],
      "metadata": {
        "colab": {
          "base_uri": "https://localhost:8080/"
        },
        "id": "12_BoLvLwa2D",
        "outputId": "3bb2a332-3d0d-4d16-c64a-6d85c046a328"
      },
      "execution_count": null,
      "outputs": [
        {
          "output_type": "stream",
          "name": "stdout",
          "text": [
            "金洲勇士現在有的球員陣容 =  ['Curry', 'Green', 'Durant', 'Looney', 'Thompson']\n",
            "勇士今天最高的三個得分 [30, 28, 22] 球員分別為 ['Curry', 'Thompson', 'Durant']\n",
            "勇士今天最低的兩個得分 [6, 5] 球員分別為 ['Looney', 'Green']\n",
            "勇士今天最高得分 ['Curry'] 分數為 30分\n",
            "勇士今天最低得分 ['Green'] 分數為 5分\n"
          ]
        }
      ]
    }
  ]
}