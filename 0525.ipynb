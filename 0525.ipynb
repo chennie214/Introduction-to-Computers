{
  "nbformat": 4,
  "nbformat_minor": 0,
  "metadata": {
    "colab": {
      "name": "0525.ipynb",
      "provenance": [],
      "authorship_tag": "ABX9TyPao2ShnOuDTzMcDNZoAAML",
      "include_colab_link": true
    },
    "kernelspec": {
      "name": "python3",
      "display_name": "Python 3"
    },
    "language_info": {
      "name": "python"
    }
  },
  "cells": [
    {
      "cell_type": "markdown",
      "metadata": {
        "id": "view-in-github",
        "colab_type": "text"
      },
      "source": [
        "<a href=\"https://colab.research.google.com/github/chennie214/Introduction-to-Computers/blob/main/0525.ipynb\" target=\"_parent\"><img src=\"https://colab.research.google.com/assets/colab-badge.svg\" alt=\"Open In Colab\"/></a>"
      ]
    },
    {
      "cell_type": "code",
      "execution_count": null,
      "metadata": {
        "colab": {
          "base_uri": "https://localhost:8080/"
        },
        "id": "mejVaHppkC-X",
        "outputId": "f09c20dd-bae3-4734-f1c5-927deba1e53e"
      },
      "outputs": [
        {
          "output_type": "stream",
          "name": "stdout",
          "text": [
            "test\n"
          ]
        }
      ],
      "source": [
        "print('test')"
      ]
    },
    {
      "cell_type": "code",
      "source": [
        "sum = 0\n",
        "test =int(input('請輸入一個正整數'))\n",
        "for n in range(1,test+1):\n",
        "  sum=sum+n\n",
        "print('1到',test,'的整數合為',sum)"
      ],
      "metadata": {
        "colab": {
          "base_uri": "https://localhost:8080/"
        },
        "id": "FFAVpkthkPu1",
        "outputId": "7141e139-c1de-4dd1-c4c9-ef723bad5195"
      },
      "execution_count": null,
      "outputs": [
        {
          "output_type": "stream",
          "name": "stdout",
          "text": [
            "請輸入一個正整數10\n",
            "1到 10 的整數合為 55\n"
          ]
        }
      ]
    },
    {
      "cell_type": "code",
      "source": [
        "sum = 0\n",
        "test =int(input('請輸入一個正整數'))\n",
        "for m in range(1,test+1):\n",
        "    sum=sum+m\n",
        "    print('1到'+ str(m) +'的整數合為:',sum)"
      ],
      "metadata": {
        "colab": {
          "base_uri": "https://localhost:8080/"
        },
        "id": "FM5d5p3rk2jy",
        "outputId": "13763cb5-ced5-4d3d-da30-a4600ae531d9"
      },
      "execution_count": null,
      "outputs": [
        {
          "output_type": "stream",
          "name": "stdout",
          "text": [
            "請輸入一個正整數10\n",
            "1到1的整數合為: 1\n",
            "1到2的整數合為: 3\n",
            "1到3的整數合為: 6\n",
            "1到4的整數合為: 10\n",
            "1到5的整數合為: 15\n",
            "1到6的整數合為: 21\n",
            "1到7的整數合為: 28\n",
            "1到8的整數合為: 36\n",
            "1到9的整數合為: 45\n",
            "1到10的整數合為: 55\n"
          ]
        }
      ]
    },
    {
      "cell_type": "code",
      "source": [
        "for j in range(1,5):\n",
        "    print(j)\n",
        "    for i in range(1,3):\n",
        "      k=i*j\n",
        "      print(j,'*',i,\"=\",k)"
      ],
      "metadata": {
        "colab": {
          "base_uri": "https://localhost:8080/"
        },
        "id": "nZWk5Wc-lRZ5",
        "outputId": "c5ba7a66-d8e6-4367-a321-2a319a19f637"
      },
      "execution_count": null,
      "outputs": [
        {
          "output_type": "stream",
          "name": "stdout",
          "text": [
            "1\n",
            "1 * 1 = 1\n",
            "1 * 2 = 2\n",
            "2\n",
            "2 * 1 = 2\n",
            "2 * 2 = 4\n",
            "3\n",
            "3 * 1 = 3\n",
            "3 * 2 = 6\n",
            "4\n",
            "4 * 1 = 4\n",
            "4 * 2 = 8\n"
          ]
        }
      ]
    },
    {
      "cell_type": "code",
      "source": [
        "for j in range(1,6):\n",
        "    print(j)\n",
        "    for i in range(1,3):\n",
        "      k=i*j\n",
        "      print(j,'*',i,\"=\",k)"
      ],
      "metadata": {
        "colab": {
          "base_uri": "https://localhost:8080/"
        },
        "id": "7niYL0qVnXYW",
        "outputId": "e143352a-2e01-4d7a-a68a-f7e7a6ad5067"
      },
      "execution_count": null,
      "outputs": [
        {
          "output_type": "stream",
          "name": "stdout",
          "text": [
            "1\n",
            "1 * 1 = 1\n",
            "1 * 2 = 2\n",
            "2\n",
            "2 * 1 = 2\n",
            "2 * 2 = 4\n",
            "3\n",
            "3 * 1 = 3\n",
            "3 * 2 = 6\n",
            "4\n",
            "4 * 1 = 4\n",
            "4 * 2 = 8\n",
            "5\n",
            "5 * 1 = 5\n",
            "5 * 2 = 10\n"
          ]
        }
      ]
    },
    {
      "cell_type": "code",
      "source": [
        "for i in range(1,5):\n",
        "    if(i==3):\n",
        "      break\n",
        "    print(i,end =\" \")"
      ],
      "metadata": {
        "colab": {
          "base_uri": "https://localhost:8080/"
        },
        "id": "3zIJb79SoUyZ",
        "outputId": "20ff5f7f-a6d9-4fe5-a46c-58470ae878a1"
      },
      "execution_count": null,
      "outputs": [
        {
          "output_type": "stream",
          "name": "stdout",
          "text": [
            "1 2 "
          ]
        }
      ]
    },
    {
      "cell_type": "code",
      "source": [
        "count = 0\n",
        "for string in \"hello\":\n",
        "  count+=1\n",
        "  if string ==\"o\":\n",
        "    break\n",
        "  print(string)\n",
        "print('迴圈結束')\n",
        "print('迴圈執行了 %d次'%count)"
      ],
      "metadata": {
        "colab": {
          "base_uri": "https://localhost:8080/"
        },
        "id": "JyDNXGZ5pdnv",
        "outputId": "96c11001-4506-47fa-ddf9-ed8838ef6577"
      },
      "execution_count": null,
      "outputs": [
        {
          "output_type": "stream",
          "name": "stdout",
          "text": [
            "h\n",
            "e\n",
            "l\n",
            "l\n",
            "迴圈結束\n",
            "迴圈執行了 5次\n"
          ]
        }
      ]
    },
    {
      "cell_type": "code",
      "source": [
        "count = 0\n",
        "for string in \"測試看看!\":\n",
        "  count+=1\n",
        "  if string ==\"看\":\n",
        "    break\n",
        "  print(string)\n",
        "print('迴圈結束')\n",
        "print('迴圈執行了 %d次'%count)"
      ],
      "metadata": {
        "colab": {
          "base_uri": "https://localhost:8080/"
        },
        "id": "xPPPDiGTq71I",
        "outputId": "f457f2ee-4c4d-4a8b-8144-12797426c851"
      },
      "execution_count": null,
      "outputs": [
        {
          "output_type": "stream",
          "name": "stdout",
          "text": [
            "測\n",
            "試\n",
            "迴圈結束\n",
            "迴圈執行了 3次\n"
          ]
        }
      ]
    },
    {
      "cell_type": "code",
      "source": [
        "for h in range(2,10):\n",
        "    for g in range(1,10):\n",
        "      l=h*g\n",
        "      print(h,'*',g,\"=\",l,'\\t')"
      ],
      "metadata": {
        "colab": {
          "base_uri": "https://localhost:8080/"
        },
        "id": "DDWggg8jr702",
        "outputId": "8a9d8e78-7371-4d1a-bdb3-20f364e53230"
      },
      "execution_count": null,
      "outputs": [
        {
          "output_type": "stream",
          "name": "stdout",
          "text": [
            "2 * 1 = 2 \t\t\n",
            "2 * 2 = 4 \t\t\n",
            "2 * 3 = 6 \t\t\n",
            "2 * 4 = 8 \t\t\n",
            "2 * 5 = 10 \t\t\n",
            "2 * 6 = 12 \t\t\n",
            "2 * 7 = 14 \t\t\n",
            "2 * 8 = 16 \t\t\n",
            "2 * 9 = 18 \t\t\n",
            "3 * 1 = 3 \t\t\n",
            "3 * 2 = 6 \t\t\n",
            "3 * 3 = 9 \t\t\n",
            "3 * 4 = 12 \t\t\n",
            "3 * 5 = 15 \t\t\n",
            "3 * 6 = 18 \t\t\n",
            "3 * 7 = 21 \t\t\n",
            "3 * 8 = 24 \t\t\n",
            "3 * 9 = 27 \t\t\n",
            "4 * 1 = 4 \t\t\n",
            "4 * 2 = 8 \t\t\n",
            "4 * 3 = 12 \t\t\n",
            "4 * 4 = 16 \t\t\n",
            "4 * 5 = 20 \t\t\n",
            "4 * 6 = 24 \t\t\n",
            "4 * 7 = 28 \t\t\n",
            "4 * 8 = 32 \t\t\n",
            "4 * 9 = 36 \t\t\n",
            "5 * 1 = 5 \t\t\n",
            "5 * 2 = 10 \t\t\n",
            "5 * 3 = 15 \t\t\n",
            "5 * 4 = 20 \t\t\n",
            "5 * 5 = 25 \t\t\n",
            "5 * 6 = 30 \t\t\n",
            "5 * 7 = 35 \t\t\n",
            "5 * 8 = 40 \t\t\n",
            "5 * 9 = 45 \t\t\n",
            "6 * 1 = 6 \t\t\n",
            "6 * 2 = 12 \t\t\n",
            "6 * 3 = 18 \t\t\n",
            "6 * 4 = 24 \t\t\n",
            "6 * 5 = 30 \t\t\n",
            "6 * 6 = 36 \t\t\n",
            "6 * 7 = 42 \t\t\n",
            "6 * 8 = 48 \t\t\n",
            "6 * 9 = 54 \t\t\n",
            "7 * 1 = 7 \t\t\n",
            "7 * 2 = 14 \t\t\n",
            "7 * 3 = 21 \t\t\n",
            "7 * 4 = 28 \t\t\n",
            "7 * 5 = 35 \t\t\n",
            "7 * 6 = 42 \t\t\n",
            "7 * 7 = 49 \t\t\n",
            "7 * 8 = 56 \t\t\n",
            "7 * 9 = 63 \t\t\n",
            "8 * 1 = 8 \t\t\n",
            "8 * 2 = 16 \t\t\n",
            "8 * 3 = 24 \t\t\n",
            "8 * 4 = 32 \t\t\n",
            "8 * 5 = 40 \t\t\n",
            "8 * 6 = 48 \t\t\n",
            "8 * 7 = 56 \t\t\n",
            "8 * 8 = 64 \t\t\n",
            "8 * 9 = 72 \t\t\n",
            "9 * 1 = 9 \t\t\n",
            "9 * 2 = 18 \t\t\n",
            "9 * 3 = 27 \t\t\n",
            "9 * 4 = 36 \t\t\n",
            "9 * 5 = 45 \t\t\n",
            "9 * 6 = 54 \t\t\n",
            "9 * 7 = 63 \t\t\n",
            "9 * 8 = 72 \t\t\n",
            "9 * 9 = 81 \t\t\n"
          ]
        }
      ]
    },
    {
      "cell_type": "code",
      "source": [
        "count = 0\n",
        "r = 0\n",
        "a =int(input('請輸入a的值:'))\n",
        "b =int(input('請輸入b的值:'))\n",
        "if b > a:\n",
        "    s = a\n",
        "    a = b\n",
        "    b = s\n",
        "    a1 = a\n",
        "else:\n",
        "     a1 =  a\n",
        "\n",
        "while True:\n",
        "  r = a1 % b\n",
        "  count+=1\n",
        "  if r == 0:\n",
        "    break\n",
        "  \n",
        "  else:\n",
        "    a1 = a1 + a\n",
        "\n",
        "print(a,\"和\",b,\"的最小公倍數=\",a1)"
      ],
      "metadata": {
        "colab": {
          "base_uri": "https://localhost:8080/"
        },
        "id": "zSyR-7tptN7h",
        "outputId": "95fc80d0-e57c-4f21-9d2c-b6444dbd9b6a"
      },
      "execution_count": 62,
      "outputs": [
        {
          "output_type": "stream",
          "name": "stdout",
          "text": [
            "請輸入a的值:9\n",
            "請輸入b的值:15\n",
            "15 和 9 的最小公倍數= 45\n"
          ]
        }
      ]
    },
    {
      "cell_type": "code",
      "source": [
        "x=int(input('請輸入一個正整數:'))\n",
        "count = 0\n",
        "for string in range(0,x):\n",
        "  count+=1\n",
        "  if string % 5 == 0:\n",
        "    continue\n",
        "  print(string)"
      ],
      "metadata": {
        "colab": {
          "base_uri": "https://localhost:8080/"
        },
        "id": "kAG4SG9jwNRn",
        "outputId": "c23920a0-8997-4f6c-d1de-d9735ed366df"
      },
      "execution_count": 59,
      "outputs": [
        {
          "output_type": "stream",
          "name": "stdout",
          "text": [
            "請輸入一個正整數:21\n",
            "1\n",
            "2\n",
            "3\n",
            "4\n",
            "6\n",
            "7\n",
            "8\n",
            "9\n",
            "11\n",
            "12\n",
            "13\n",
            "14\n",
            "16\n",
            "17\n",
            "18\n",
            "19\n"
          ]
        }
      ]
    },
    {
      "cell_type": "code",
      "source": [
        ""
      ],
      "metadata": {
        "id": "hr9SElnEHKY-"
      },
      "execution_count": null,
      "outputs": []
    }
  ]
}