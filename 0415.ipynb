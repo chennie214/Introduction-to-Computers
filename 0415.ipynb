{
  "nbformat": 4,
  "nbformat_minor": 0,
  "metadata": {
    "colab": {
      "name": "0415.ipynb",
      "provenance": [],
      "authorship_tag": "ABX9TyPtMb+vyuDsje3s0R6xpB+I",
      "include_colab_link": true
    },
    "kernelspec": {
      "name": "python3",
      "display_name": "Python 3"
    },
    "language_info": {
      "name": "python"
    }
  },
  "cells": [
    {
      "cell_type": "markdown",
      "metadata": {
        "id": "view-in-github",
        "colab_type": "text"
      },
      "source": [
        "<a href=\"https://colab.research.google.com/github/chennie214/Introduction-to-Computers/blob/main/0415.ipynb\" target=\"_parent\"><img src=\"https://colab.research.google.com/assets/colab-badge.svg\" alt=\"Open In Colab\"/></a>"
      ]
    },
    {
      "cell_type": "code",
      "execution_count": 1,
      "metadata": {
        "colab": {
          "base_uri": "https://localhost:8080/"
        },
        "id": "aU2Zxh1qxrU2",
        "outputId": "9b12120d-e857-4b2f-befa-3a6ce4dc152e"
      },
      "outputs": [
        {
          "output_type": "stream",
          "name": "stdout",
          "text": [
            "消費者擁有的金額110\n",
            "可購買手機\n"
          ]
        }
      ],
      "source": [
        "x=int(input('消費者擁有的金額'))\n",
        "if x <100:\n",
        "   print('金額不足')\n",
        "if(100<x<200):\n",
        "   print('可購買手機')\n",
        "if(200<x<300):\n",
        "   print('可購買平板')\n",
        "if(300<x<400):\n",
        "   print('可購買電腦')"
      ]
    }
  ]
}