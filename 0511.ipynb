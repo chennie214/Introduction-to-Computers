{
  "nbformat": 4,
  "nbformat_minor": 0,
  "metadata": {
    "colab": {
      "name": "0511.ipynb",
      "provenance": [],
      "collapsed_sections": [],
      "authorship_tag": "ABX9TyMM9W9RBw9UOn/ubUinQrTZ",
      "include_colab_link": true
    },
    "kernelspec": {
      "name": "python3",
      "display_name": "Python 3"
    },
    "language_info": {
      "name": "python"
    }
  },
  "cells": [
    {
      "cell_type": "markdown",
      "metadata": {
        "id": "view-in-github",
        "colab_type": "text"
      },
      "source": [
        "<a href=\"https://colab.research.google.com/github/chennie214/Introduction-to-Computers/blob/main/0511.ipynb\" target=\"_parent\"><img src=\"https://colab.research.google.com/assets/colab-badge.svg\" alt=\"Open In Colab\"/></a>"
      ]
    },
    {
      "cell_type": "code",
      "execution_count": null,
      "metadata": {
        "colab": {
          "base_uri": "https://localhost:8080/"
        },
        "id": "Zov-Gn5khr2a",
        "outputId": "c797d80b-1f7a-4b5c-c484-3747b8601b3e"
      },
      "outputs": [
        {
          "output_type": "stream",
          "name": "stdout",
          "text": [
            "test\n"
          ]
        }
      ],
      "source": [
        "print('test')"
      ]
    },
    {
      "cell_type": "code",
      "source": [
        "temp=float(input('請輸入你的體溫'))\n",
        "if temp>=37.5:\n",
        "    print('體溫過高')\n",
        "elif temp>=37 and temp<37.4:\n",
        "    print('體溫略高!')\n",
        "elif temp>=34 and temp<36.9:\n",
        "    print('體溫正常!')\n",
        "else:\n",
        "  print('體溫異常，請重新量測!')"
      ],
      "metadata": {
        "colab": {
          "base_uri": "https://localhost:8080/"
        },
        "id": "pM8migkxiNbB",
        "outputId": "e03fa17a-a737-4a17-b5b6-170b7dae8deb"
      },
      "execution_count": null,
      "outputs": [
        {
          "output_type": "stream",
          "name": "stdout",
          "text": [
            "請輸入你的體溫33\n",
            "體溫異常，請重新量測!\n"
          ]
        }
      ]
    },
    {
      "cell_type": "code",
      "source": [
        "money = int(input('請輸入購物金額:'))\n",
        "if (money>=10000):\n",
        "    if(money>=100000):\n",
        "      print('八折',money * 0.8,end ='元\\n')\n",
        "    elif(money>=50000):\n",
        "      print('八五折',money *0.85,end ='元\\n')\n",
        "    elif(money>=30000):\n",
        "      print('九折',money *0.9,end ='元\\n')\n",
        "    else:\n",
        "      print('九五折',money *0.95,end ='元\\n')\n",
        "else:\n",
        "  print('沒打折',money,end =\"元\\n\")"
      ],
      "metadata": {
        "colab": {
          "base_uri": "https://localhost:8080/"
        },
        "id": "sMZ01dg8kvdM",
        "outputId": "c90ee9bb-1154-4391-8d61-6e6ebe43b84b"
      },
      "execution_count": 10,
      "outputs": [
        {
          "output_type": "stream",
          "name": "stdout",
          "text": [
            "請輸入購物金額:10000\n",
            "九五折 9500.0元\n"
          ]
        }
      ]
    },
    {
      "cell_type": "code",
      "source": [
        "score = int(input('請輸入成績:'))\n",
        "if (score>=60):\n",
        "    if(score>=90):\n",
        "      print('A')\n",
        "    elif(score<90 and score>80):\n",
        "      print('B')\n",
        "    elif(score<80 and score>70):\n",
        "      print('C')\n",
        "else:\n",
        "  print('D')"
      ],
      "metadata": {
        "id": "dIkU0_bhm3vz",
        "colab": {
          "base_uri": "https://localhost:8080/"
        },
        "outputId": "efc4a600-bce8-407f-965e-c3f29526aa42"
      },
      "execution_count": 18,
      "outputs": [
        {
          "output_type": "stream",
          "name": "stdout",
          "text": [
            "請輸入成績:59\n",
            "D\n"
          ]
        }
      ]
    },
    {
      "cell_type": "code",
      "source": [
        "season = int(input('請輸入月份:'))\n",
        "if (season<13):\n",
        "    if(season>=1 and season<=3):\n",
        "      print('是春天!')\n",
        "    elif(season<=6 and season>=4):\n",
        "      print('是夏天!')\n",
        "    elif(season<=9 and season>=7):\n",
        "      print('是秋天!')\n",
        "    elif(season<=12 and season>=10):\n",
        "      print('是冬天!')\n",
        "else:\n",
        "  print('月份不再範圍內!')"
      ],
      "metadata": {
        "colab": {
          "base_uri": "https://localhost:8080/"
        },
        "id": "_Pby5XMH8AK7",
        "outputId": "06aecf47-fda7-424f-e698-7bd1909280ae"
      },
      "execution_count": 24,
      "outputs": [
        {
          "output_type": "stream",
          "name": "stdout",
          "text": [
            "請輸入月份:5\n",
            "是夏天!\n"
          ]
        }
      ]
    },
    {
      "cell_type": "code",
      "source": [
        "tax = int(input('請輸入今年收入淨額:'))\n",
        "if(tax>=300000):\n",
        "    if(tax>=2000000):\n",
        "      print('付稅金額:',tax *0.3,end=\"元\\n\")\n",
        "    elif(tax>=1000000):\n",
        "      print('付稅金額:',tax *0.21,end=\"元\\n\")\n",
        "    elif(tax>=600000):\n",
        "      print('付稅金額:',tax *0.13,end=\"元\\n\")\n",
        "    elif(tax>=300000):\n",
        "      print('付稅金額:',tax *0.06,end=\"元\\n\")\n",
        "else:\n",
        "  print('付稅金額:0元')"
      ],
      "metadata": {
        "colab": {
          "base_uri": "https://localhost:8080/"
        },
        "id": "GY5h3i9vCO8a",
        "outputId": "8899cf62-3dde-486e-974f-3c04dbc75d42"
      },
      "execution_count": 13,
      "outputs": [
        {
          "output_type": "stream",
          "name": "stdout",
          "text": [
            "請輸入今年收入淨額:100000\n",
            "付稅金額:0元\n"
          ]
        }
      ]
    }
  ]
}